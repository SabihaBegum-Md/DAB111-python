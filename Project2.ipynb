{
 "cells": [
  {
   "cell_type": "markdown",
   "id": "f45b56a8",
   "metadata": {},
   "source": [
    "# 1-Our Dataset"
   ]
  },
  {
   "cell_type": "markdown",
   "id": "69f18b8b",
   "metadata": {},
   "source": [
    "Our data is about the RBNB listing check the table below to obtain a brief understanding."
   ]
  },
  {
   "cell_type": "code",
   "execution_count": 4,
   "id": "8d588e03",
   "metadata": {},
   "outputs": [],
   "source": [
    "import numpy as np\n",
    "import matplotlib.pyplot as plt"
   ]
  },
  {
   "cell_type": "code",
   "execution_count": 5,
   "id": "b423addb",
   "metadata": {},
   "outputs": [
    {
     "data": {
      "text/html": [
       "<div>\n",
       "<style scoped>\n",
       "    .dataframe tbody tr th:only-of-type {\n",
       "        vertical-align: middle;\n",
       "    }\n",
       "\n",
       "    .dataframe tbody tr th {\n",
       "        vertical-align: top;\n",
       "    }\n",
       "\n",
       "    .dataframe thead th {\n",
       "        text-align: right;\n",
       "    }\n",
       "</style>\n",
       "<table border=\"1\" class=\"dataframe\">\n",
       "  <thead>\n",
       "    <tr style=\"text-align: right;\">\n",
       "      <th></th>\n",
       "      <th>id</th>\n",
       "      <th>listing_url</th>\n",
       "      <th>scrape_id</th>\n",
       "      <th>last_scraped</th>\n",
       "      <th>name</th>\n",
       "      <th>summary</th>\n",
       "      <th>space</th>\n",
       "      <th>description</th>\n",
       "      <th>experiences_offered</th>\n",
       "      <th>neighborhood_overview</th>\n",
       "      <th>...</th>\n",
       "      <th>review_scores_value</th>\n",
       "      <th>requires_license</th>\n",
       "      <th>license</th>\n",
       "      <th>jurisdiction_names</th>\n",
       "      <th>instant_bookable</th>\n",
       "      <th>cancellation_policy</th>\n",
       "      <th>require_guest_profile_picture</th>\n",
       "      <th>require_guest_phone_verification</th>\n",
       "      <th>calculated_host_listings_count</th>\n",
       "      <th>reviews_per_month</th>\n",
       "    </tr>\n",
       "  </thead>\n",
       "  <tbody>\n",
       "    <tr>\n",
       "      <th>0</th>\n",
       "      <td>7087327</td>\n",
       "      <td>https://www.airbnb.com/rooms/7087327</td>\n",
       "      <td>2.020000e+13</td>\n",
       "      <td>10/3/2015</td>\n",
       "      <td>Historic DC Condo-Walk to Capitol!</td>\n",
       "      <td>Professional pictures coming soon! Welcome to ...</td>\n",
       "      <td>NaN</td>\n",
       "      <td>Professional pictures coming soon! Welcome to ...</td>\n",
       "      <td>none</td>\n",
       "      <td>NaN</td>\n",
       "      <td>...</td>\n",
       "      <td>NaN</td>\n",
       "      <td>f</td>\n",
       "      <td>NaN</td>\n",
       "      <td>DISTRICT OF COLUMBIA, WASHINGTON</td>\n",
       "      <td>f</td>\n",
       "      <td>flexible</td>\n",
       "      <td>f</td>\n",
       "      <td>f</td>\n",
       "      <td>18</td>\n",
       "      <td>NaN</td>\n",
       "    </tr>\n",
       "    <tr>\n",
       "      <th>1</th>\n",
       "      <td>975833</td>\n",
       "      <td>https://www.airbnb.com/rooms/975833</td>\n",
       "      <td>2.020000e+13</td>\n",
       "      <td>10/3/2015</td>\n",
       "      <td>Spacious Capitol Hill Townhouse</td>\n",
       "      <td>NaN</td>\n",
       "      <td>Beautifully renovated Capitol Hill townhouse. ...</td>\n",
       "      <td>Beautifully renovated Capitol Hill townhouse. ...</td>\n",
       "      <td>none</td>\n",
       "      <td>NaN</td>\n",
       "      <td>...</td>\n",
       "      <td>9.0</td>\n",
       "      <td>f</td>\n",
       "      <td>NaN</td>\n",
       "      <td>DISTRICT OF COLUMBIA, WASHINGTON</td>\n",
       "      <td>f</td>\n",
       "      <td>strict</td>\n",
       "      <td>f</td>\n",
       "      <td>f</td>\n",
       "      <td>1</td>\n",
       "      <td>2.11</td>\n",
       "    </tr>\n",
       "    <tr>\n",
       "      <th>2</th>\n",
       "      <td>8249488</td>\n",
       "      <td>https://www.airbnb.com/rooms/8249488</td>\n",
       "      <td>2.020000e+13</td>\n",
       "      <td>10/3/2015</td>\n",
       "      <td>Spacious/private room for single</td>\n",
       "      <td>This is an ideal room for a single traveler th...</td>\n",
       "      <td>NaN</td>\n",
       "      <td>This is an ideal room for a single traveler th...</td>\n",
       "      <td>none</td>\n",
       "      <td>NaN</td>\n",
       "      <td>...</td>\n",
       "      <td>NaN</td>\n",
       "      <td>f</td>\n",
       "      <td>NaN</td>\n",
       "      <td>DISTRICT OF COLUMBIA, WASHINGTON</td>\n",
       "      <td>f</td>\n",
       "      <td>flexible</td>\n",
       "      <td>f</td>\n",
       "      <td>f</td>\n",
       "      <td>1</td>\n",
       "      <td>1.00</td>\n",
       "    </tr>\n",
       "    <tr>\n",
       "      <th>3</th>\n",
       "      <td>8409022</td>\n",
       "      <td>https://www.airbnb.com/rooms/8409022</td>\n",
       "      <td>2.020000e+13</td>\n",
       "      <td>10/3/2015</td>\n",
       "      <td>A wonderful bedroom with library</td>\n",
       "      <td>Prime location right on the Potomac River in W...</td>\n",
       "      <td>NaN</td>\n",
       "      <td>Prime location right on the Potomac River in W...</td>\n",
       "      <td>none</td>\n",
       "      <td>NaN</td>\n",
       "      <td>...</td>\n",
       "      <td>NaN</td>\n",
       "      <td>f</td>\n",
       "      <td>NaN</td>\n",
       "      <td>DISTRICT OF COLUMBIA, WASHINGTON</td>\n",
       "      <td>f</td>\n",
       "      <td>flexible</td>\n",
       "      <td>f</td>\n",
       "      <td>f</td>\n",
       "      <td>1</td>\n",
       "      <td>NaN</td>\n",
       "    </tr>\n",
       "    <tr>\n",
       "      <th>4</th>\n",
       "      <td>8411173</td>\n",
       "      <td>https://www.airbnb.com/rooms/8411173</td>\n",
       "      <td>2.020000e+13</td>\n",
       "      <td>10/3/2015</td>\n",
       "      <td>Downtown Silver Spring</td>\n",
       "      <td>Hi travellers! I live in this peaceful spot, b...</td>\n",
       "      <td>This is a 750 sq ft 1 bedroom 1 bathroom.  Whi...</td>\n",
       "      <td>Hi travellers! I live in this peaceful spot, b...</td>\n",
       "      <td>none</td>\n",
       "      <td>Silver Spring is booming.  You can walk to a n...</td>\n",
       "      <td>...</td>\n",
       "      <td>NaN</td>\n",
       "      <td>f</td>\n",
       "      <td>NaN</td>\n",
       "      <td>DISTRICT OF COLUMBIA, WASHINGTON</td>\n",
       "      <td>f</td>\n",
       "      <td>flexible</td>\n",
       "      <td>f</td>\n",
       "      <td>f</td>\n",
       "      <td>1</td>\n",
       "      <td>NaN</td>\n",
       "    </tr>\n",
       "    <tr>\n",
       "      <th>...</th>\n",
       "      <td>...</td>\n",
       "      <td>...</td>\n",
       "      <td>...</td>\n",
       "      <td>...</td>\n",
       "      <td>...</td>\n",
       "      <td>...</td>\n",
       "      <td>...</td>\n",
       "      <td>...</td>\n",
       "      <td>...</td>\n",
       "      <td>...</td>\n",
       "      <td>...</td>\n",
       "      <td>...</td>\n",
       "      <td>...</td>\n",
       "      <td>...</td>\n",
       "      <td>...</td>\n",
       "      <td>...</td>\n",
       "      <td>...</td>\n",
       "      <td>...</td>\n",
       "      <td>...</td>\n",
       "      <td>...</td>\n",
       "      <td>...</td>\n",
       "    </tr>\n",
       "    <tr>\n",
       "      <th>3718</th>\n",
       "      <td>1544877</td>\n",
       "      <td>https://www.airbnb.com/rooms/1544877</td>\n",
       "      <td>2.020000e+13</td>\n",
       "      <td>10/3/2015</td>\n",
       "      <td>Capitol Hill, DC - Great Location!</td>\n",
       "      <td>Fully furnished apartment ( 1 bedroom, 1 bath,...</td>\n",
       "      <td>Historic Victorian house on Capitol Hill. Expe...</td>\n",
       "      <td>Fully furnished apartment ( 1 bedroom, 1 bath,...</td>\n",
       "      <td>none</td>\n",
       "      <td>Experience living in the Historic District. Th...</td>\n",
       "      <td>...</td>\n",
       "      <td>10.0</td>\n",
       "      <td>f</td>\n",
       "      <td>NaN</td>\n",
       "      <td>DISTRICT OF COLUMBIA, WASHINGTON</td>\n",
       "      <td>f</td>\n",
       "      <td>strict</td>\n",
       "      <td>f</td>\n",
       "      <td>f</td>\n",
       "      <td>1</td>\n",
       "      <td>0.79</td>\n",
       "    </tr>\n",
       "    <tr>\n",
       "      <th>3719</th>\n",
       "      <td>1806338</td>\n",
       "      <td>https://www.airbnb.com/rooms/1806338</td>\n",
       "      <td>2.020000e+13</td>\n",
       "      <td>10/3/2015</td>\n",
       "      <td>Lovely bright bedroom.</td>\n",
       "      <td>This comfortable room that fits two is situate...</td>\n",
       "      <td>A warm family home.</td>\n",
       "      <td>This comfortable room that fits two is situate...</td>\n",
       "      <td>none</td>\n",
       "      <td>Capitol Hill is a gorgeous neighborhood in the...</td>\n",
       "      <td>...</td>\n",
       "      <td>10.0</td>\n",
       "      <td>f</td>\n",
       "      <td>NaN</td>\n",
       "      <td>DISTRICT OF COLUMBIA, WASHINGTON</td>\n",
       "      <td>f</td>\n",
       "      <td>moderate</td>\n",
       "      <td>f</td>\n",
       "      <td>f</td>\n",
       "      <td>1</td>\n",
       "      <td>1.95</td>\n",
       "    </tr>\n",
       "    <tr>\n",
       "      <th>3720</th>\n",
       "      <td>1817907</td>\n",
       "      <td>https://www.airbnb.com/rooms/1817907</td>\n",
       "      <td>2.020000e+13</td>\n",
       "      <td>10/3/2015</td>\n",
       "      <td>Hill Flats DC - WALK EVERYWHERE!</td>\n",
       "      <td>Hill Flats DC is an owner managed luxury 1880 ...</td>\n",
       "      <td>Welcome to Hill Flats DC! Hill Flats DC is an ...</td>\n",
       "      <td>Hill Flats DC is an owner managed luxury 1880 ...</td>\n",
       "      <td>none</td>\n",
       "      <td>NaN</td>\n",
       "      <td>...</td>\n",
       "      <td>9.0</td>\n",
       "      <td>f</td>\n",
       "      <td>NaN</td>\n",
       "      <td>DISTRICT OF COLUMBIA, WASHINGTON</td>\n",
       "      <td>f</td>\n",
       "      <td>strict</td>\n",
       "      <td>f</td>\n",
       "      <td>f</td>\n",
       "      <td>2</td>\n",
       "      <td>0.66</td>\n",
       "    </tr>\n",
       "    <tr>\n",
       "      <th>3721</th>\n",
       "      <td>4223238</td>\n",
       "      <td>https://www.airbnb.com/rooms/4223238</td>\n",
       "      <td>2.020000e+13</td>\n",
       "      <td>10/3/2015</td>\n",
       "      <td>One Bedroom Capitol Hill Retreat</td>\n",
       "      <td>This spacious, light-filled, serene one-bedroo...</td>\n",
       "      <td>This renovated english basement is perfectly s...</td>\n",
       "      <td>This spacious, light-filled, serene one-bedroo...</td>\n",
       "      <td>none</td>\n",
       "      <td>Just blocks from the Capitol grounds, this apa...</td>\n",
       "      <td>...</td>\n",
       "      <td>10.0</td>\n",
       "      <td>f</td>\n",
       "      <td>NaN</td>\n",
       "      <td>DISTRICT OF COLUMBIA, WASHINGTON</td>\n",
       "      <td>f</td>\n",
       "      <td>moderate</td>\n",
       "      <td>f</td>\n",
       "      <td>f</td>\n",
       "      <td>1</td>\n",
       "      <td>3.98</td>\n",
       "    </tr>\n",
       "    <tr>\n",
       "      <th>3722</th>\n",
       "      <td>7837187</td>\n",
       "      <td>https://www.airbnb.com/rooms/7837187</td>\n",
       "      <td>2.020000e+13</td>\n",
       "      <td>10/3/2015</td>\n",
       "      <td>Cozy studio blocks from Capitol</td>\n",
       "      <td>4 blocks from the Capitol, 3 blocks to Eastern...</td>\n",
       "      <td>NaN</td>\n",
       "      <td>4 blocks from the Capitol, 3 blocks to Eastern...</td>\n",
       "      <td>none</td>\n",
       "      <td>NaN</td>\n",
       "      <td>...</td>\n",
       "      <td>10.0</td>\n",
       "      <td>f</td>\n",
       "      <td>NaN</td>\n",
       "      <td>DISTRICT OF COLUMBIA, WASHINGTON</td>\n",
       "      <td>f</td>\n",
       "      <td>flexible</td>\n",
       "      <td>f</td>\n",
       "      <td>f</td>\n",
       "      <td>1</td>\n",
       "      <td>1.00</td>\n",
       "    </tr>\n",
       "  </tbody>\n",
       "</table>\n",
       "<p>3723 rows × 92 columns</p>\n",
       "</div>"
      ],
      "text/plain": [
       "           id                           listing_url     scrape_id  \\\n",
       "0     7087327  https://www.airbnb.com/rooms/7087327  2.020000e+13   \n",
       "1      975833   https://www.airbnb.com/rooms/975833  2.020000e+13   \n",
       "2     8249488  https://www.airbnb.com/rooms/8249488  2.020000e+13   \n",
       "3     8409022  https://www.airbnb.com/rooms/8409022  2.020000e+13   \n",
       "4     8411173  https://www.airbnb.com/rooms/8411173  2.020000e+13   \n",
       "...       ...                                   ...           ...   \n",
       "3718  1544877  https://www.airbnb.com/rooms/1544877  2.020000e+13   \n",
       "3719  1806338  https://www.airbnb.com/rooms/1806338  2.020000e+13   \n",
       "3720  1817907  https://www.airbnb.com/rooms/1817907  2.020000e+13   \n",
       "3721  4223238  https://www.airbnb.com/rooms/4223238  2.020000e+13   \n",
       "3722  7837187  https://www.airbnb.com/rooms/7837187  2.020000e+13   \n",
       "\n",
       "     last_scraped                                name  \\\n",
       "0       10/3/2015  Historic DC Condo-Walk to Capitol!   \n",
       "1       10/3/2015     Spacious Capitol Hill Townhouse   \n",
       "2       10/3/2015    Spacious/private room for single   \n",
       "3       10/3/2015    A wonderful bedroom with library   \n",
       "4       10/3/2015              Downtown Silver Spring   \n",
       "...           ...                                 ...   \n",
       "3718    10/3/2015  Capitol Hill, DC - Great Location!   \n",
       "3719    10/3/2015              Lovely bright bedroom.   \n",
       "3720    10/3/2015    Hill Flats DC - WALK EVERYWHERE!   \n",
       "3721    10/3/2015    One Bedroom Capitol Hill Retreat   \n",
       "3722    10/3/2015     Cozy studio blocks from Capitol   \n",
       "\n",
       "                                                summary  \\\n",
       "0     Professional pictures coming soon! Welcome to ...   \n",
       "1                                                   NaN   \n",
       "2     This is an ideal room for a single traveler th...   \n",
       "3     Prime location right on the Potomac River in W...   \n",
       "4     Hi travellers! I live in this peaceful spot, b...   \n",
       "...                                                 ...   \n",
       "3718  Fully furnished apartment ( 1 bedroom, 1 bath,...   \n",
       "3719  This comfortable room that fits two is situate...   \n",
       "3720  Hill Flats DC is an owner managed luxury 1880 ...   \n",
       "3721  This spacious, light-filled, serene one-bedroo...   \n",
       "3722  4 blocks from the Capitol, 3 blocks to Eastern...   \n",
       "\n",
       "                                                  space  \\\n",
       "0                                                   NaN   \n",
       "1     Beautifully renovated Capitol Hill townhouse. ...   \n",
       "2                                                   NaN   \n",
       "3                                                   NaN   \n",
       "4     This is a 750 sq ft 1 bedroom 1 bathroom.  Whi...   \n",
       "...                                                 ...   \n",
       "3718  Historic Victorian house on Capitol Hill. Expe...   \n",
       "3719                             A warm family home.      \n",
       "3720  Welcome to Hill Flats DC! Hill Flats DC is an ...   \n",
       "3721  This renovated english basement is perfectly s...   \n",
       "3722                                                NaN   \n",
       "\n",
       "                                            description experiences_offered  \\\n",
       "0     Professional pictures coming soon! Welcome to ...                none   \n",
       "1     Beautifully renovated Capitol Hill townhouse. ...                none   \n",
       "2     This is an ideal room for a single traveler th...                none   \n",
       "3     Prime location right on the Potomac River in W...                none   \n",
       "4     Hi travellers! I live in this peaceful spot, b...                none   \n",
       "...                                                 ...                 ...   \n",
       "3718  Fully furnished apartment ( 1 bedroom, 1 bath,...                none   \n",
       "3719  This comfortable room that fits two is situate...                none   \n",
       "3720  Hill Flats DC is an owner managed luxury 1880 ...                none   \n",
       "3721  This spacious, light-filled, serene one-bedroo...                none   \n",
       "3722  4 blocks from the Capitol, 3 blocks to Eastern...                none   \n",
       "\n",
       "                                  neighborhood_overview  ...  \\\n",
       "0                                                   NaN  ...   \n",
       "1                                                   NaN  ...   \n",
       "2                                                   NaN  ...   \n",
       "3                                                   NaN  ...   \n",
       "4     Silver Spring is booming.  You can walk to a n...  ...   \n",
       "...                                                 ...  ...   \n",
       "3718  Experience living in the Historic District. Th...  ...   \n",
       "3719  Capitol Hill is a gorgeous neighborhood in the...  ...   \n",
       "3720                                                NaN  ...   \n",
       "3721  Just blocks from the Capitol grounds, this apa...  ...   \n",
       "3722                                                NaN  ...   \n",
       "\n",
       "     review_scores_value requires_license license  \\\n",
       "0                    NaN                f     NaN   \n",
       "1                    9.0                f     NaN   \n",
       "2                    NaN                f     NaN   \n",
       "3                    NaN                f     NaN   \n",
       "4                    NaN                f     NaN   \n",
       "...                  ...              ...     ...   \n",
       "3718                10.0                f     NaN   \n",
       "3719                10.0                f     NaN   \n",
       "3720                 9.0                f     NaN   \n",
       "3721                10.0                f     NaN   \n",
       "3722                10.0                f     NaN   \n",
       "\n",
       "                    jurisdiction_names instant_bookable cancellation_policy  \\\n",
       "0     DISTRICT OF COLUMBIA, WASHINGTON                f            flexible   \n",
       "1     DISTRICT OF COLUMBIA, WASHINGTON                f              strict   \n",
       "2     DISTRICT OF COLUMBIA, WASHINGTON                f            flexible   \n",
       "3     DISTRICT OF COLUMBIA, WASHINGTON                f            flexible   \n",
       "4     DISTRICT OF COLUMBIA, WASHINGTON                f            flexible   \n",
       "...                                ...              ...                 ...   \n",
       "3718  DISTRICT OF COLUMBIA, WASHINGTON                f              strict   \n",
       "3719  DISTRICT OF COLUMBIA, WASHINGTON                f            moderate   \n",
       "3720  DISTRICT OF COLUMBIA, WASHINGTON                f              strict   \n",
       "3721  DISTRICT OF COLUMBIA, WASHINGTON                f            moderate   \n",
       "3722  DISTRICT OF COLUMBIA, WASHINGTON                f            flexible   \n",
       "\n",
       "      require_guest_profile_picture require_guest_phone_verification  \\\n",
       "0                                 f                                f   \n",
       "1                                 f                                f   \n",
       "2                                 f                                f   \n",
       "3                                 f                                f   \n",
       "4                                 f                                f   \n",
       "...                             ...                              ...   \n",
       "3718                              f                                f   \n",
       "3719                              f                                f   \n",
       "3720                              f                                f   \n",
       "3721                              f                                f   \n",
       "3722                              f                                f   \n",
       "\n",
       "     calculated_host_listings_count reviews_per_month  \n",
       "0                                18               NaN  \n",
       "1                                 1              2.11  \n",
       "2                                 1              1.00  \n",
       "3                                 1               NaN  \n",
       "4                                 1               NaN  \n",
       "...                             ...               ...  \n",
       "3718                              1              0.79  \n",
       "3719                              1              1.95  \n",
       "3720                              2              0.66  \n",
       "3721                              1              3.98  \n",
       "3722                              1              1.00  \n",
       "\n",
       "[3723 rows x 92 columns]"
      ]
     },
     "execution_count": 5,
     "metadata": {},
     "output_type": "execute_result"
    }
   ],
   "source": [
    "import pandas as pd\n",
    "import seaborn as sns\n",
    "\n",
    "file_path = \"Listings - Detailed.csv\"\n",
    "df = pd.read_csv(file_path,low_memory=False)\n",
    "\n",
    "df"
   ]
  },
  {
   "cell_type": "markdown",
   "id": "8b7367df",
   "metadata": {},
   "source": [
    "# 2- Dataset Cleaning "
   ]
  },
  {
   "cell_type": "markdown",
   "id": "963fc895",
   "metadata": {},
   "source": [
    "# 2.1 Dropped Columns \n",
    "The procedure involves dropping certain columns; however, it's important to note that this informations or columns is unrelated to the data processing context and does not have any impact on our results or analysis.\n",
    "\n",
    "The columns are as Followed: ('license', 'experiences_offered', 'neighborhood_overview', 'notes', 'transit')."
   ]
  },
  {
   "cell_type": "code",
   "execution_count": 3,
   "id": "b62487bd",
   "metadata": {},
   "outputs": [],
   "source": [
    "columns_to_drop = ['license', 'experiences_offered', 'neighborhood_overview', 'notes', 'transit']\n",
    "df = df.drop(columns=columns_to_drop)"
   ]
  },
  {
   "cell_type": "code",
   "execution_count": 4,
   "id": "40cc982c",
   "metadata": {},
   "outputs": [
    {
     "data": {
      "text/html": [
       "<div>\n",
       "<style scoped>\n",
       "    .dataframe tbody tr th:only-of-type {\n",
       "        vertical-align: middle;\n",
       "    }\n",
       "\n",
       "    .dataframe tbody tr th {\n",
       "        vertical-align: top;\n",
       "    }\n",
       "\n",
       "    .dataframe thead th {\n",
       "        text-align: right;\n",
       "    }\n",
       "</style>\n",
       "<table border=\"1\" class=\"dataframe\">\n",
       "  <thead>\n",
       "    <tr style=\"text-align: right;\">\n",
       "      <th></th>\n",
       "      <th>id</th>\n",
       "      <th>listing_url</th>\n",
       "      <th>scrape_id</th>\n",
       "      <th>last_scraped</th>\n",
       "      <th>name</th>\n",
       "      <th>summary</th>\n",
       "      <th>space</th>\n",
       "      <th>description</th>\n",
       "      <th>thumbnail_url</th>\n",
       "      <th>medium_url</th>\n",
       "      <th>...</th>\n",
       "      <th>review_scores_location</th>\n",
       "      <th>review_scores_value</th>\n",
       "      <th>requires_license</th>\n",
       "      <th>jurisdiction_names</th>\n",
       "      <th>instant_bookable</th>\n",
       "      <th>cancellation_policy</th>\n",
       "      <th>require_guest_profile_picture</th>\n",
       "      <th>require_guest_phone_verification</th>\n",
       "      <th>calculated_host_listings_count</th>\n",
       "      <th>reviews_per_month</th>\n",
       "    </tr>\n",
       "  </thead>\n",
       "  <tbody>\n",
       "    <tr>\n",
       "      <th>0</th>\n",
       "      <td>7087327</td>\n",
       "      <td>https://www.airbnb.com/rooms/7087327</td>\n",
       "      <td>2.015100e+13</td>\n",
       "      <td>10/3/2015</td>\n",
       "      <td>Historic DC Condo-Walk to Capitol!</td>\n",
       "      <td>Professional pictures coming soon! Welcome to ...</td>\n",
       "      <td>NaN</td>\n",
       "      <td>Professional pictures coming soon! Welcome to ...</td>\n",
       "      <td>https://a2.muscache.com/ac/pictures/105507202/...</td>\n",
       "      <td>https://a2.muscache.com/im/pictures/105507202/...</td>\n",
       "      <td>...</td>\n",
       "      <td>NaN</td>\n",
       "      <td>NaN</td>\n",
       "      <td>f</td>\n",
       "      <td>DISTRICT OF COLUMBIA, WASHINGTON</td>\n",
       "      <td>f</td>\n",
       "      <td>flexible</td>\n",
       "      <td>f</td>\n",
       "      <td>f</td>\n",
       "      <td>18</td>\n",
       "      <td>NaN</td>\n",
       "    </tr>\n",
       "    <tr>\n",
       "      <th>1</th>\n",
       "      <td>975833</td>\n",
       "      <td>https://www.airbnb.com/rooms/975833</td>\n",
       "      <td>2.015100e+13</td>\n",
       "      <td>10/3/2015</td>\n",
       "      <td>Spacious Capitol Hill Townhouse</td>\n",
       "      <td>NaN</td>\n",
       "      <td>Beautifully renovated Capitol Hill townhouse. ...</td>\n",
       "      <td>Beautifully renovated Capitol Hill townhouse. ...</td>\n",
       "      <td>https://a2.muscache.com/ac/pictures/14613245/d...</td>\n",
       "      <td>https://a2.muscache.com/im/pictures/14613245/d...</td>\n",
       "      <td>...</td>\n",
       "      <td>9.0</td>\n",
       "      <td>9.0</td>\n",
       "      <td>f</td>\n",
       "      <td>DISTRICT OF COLUMBIA, WASHINGTON</td>\n",
       "      <td>f</td>\n",
       "      <td>strict</td>\n",
       "      <td>f</td>\n",
       "      <td>f</td>\n",
       "      <td>1</td>\n",
       "      <td>2.11</td>\n",
       "    </tr>\n",
       "    <tr>\n",
       "      <th>2</th>\n",
       "      <td>8249488</td>\n",
       "      <td>https://www.airbnb.com/rooms/8249488</td>\n",
       "      <td>2.015100e+13</td>\n",
       "      <td>10/3/2015</td>\n",
       "      <td>Spacious/private room for single</td>\n",
       "      <td>This is an ideal room for a single traveler th...</td>\n",
       "      <td>NaN</td>\n",
       "      <td>This is an ideal room for a single traveler th...</td>\n",
       "      <td>https://a1.muscache.com/ac/pictures/104989386/...</td>\n",
       "      <td>https://a1.muscache.com/im/pictures/104989386/...</td>\n",
       "      <td>...</td>\n",
       "      <td>NaN</td>\n",
       "      <td>NaN</td>\n",
       "      <td>f</td>\n",
       "      <td>NaN</td>\n",
       "      <td>f</td>\n",
       "      <td>flexible</td>\n",
       "      <td>f</td>\n",
       "      <td>f</td>\n",
       "      <td>1</td>\n",
       "      <td>1.00</td>\n",
       "    </tr>\n",
       "    <tr>\n",
       "      <th>3</th>\n",
       "      <td>8409022</td>\n",
       "      <td>https://www.airbnb.com/rooms/8409022</td>\n",
       "      <td>2.015100e+13</td>\n",
       "      <td>10/3/2015</td>\n",
       "      <td>A wonderful bedroom with library</td>\n",
       "      <td>Prime location right on the Potomac River in W...</td>\n",
       "      <td>NaN</td>\n",
       "      <td>Prime location right on the Potomac River in W...</td>\n",
       "      <td>https://a2.muscache.com/ac/pictures/106977751/...</td>\n",
       "      <td>https://a2.muscache.com/im/pictures/106977751/...</td>\n",
       "      <td>...</td>\n",
       "      <td>NaN</td>\n",
       "      <td>NaN</td>\n",
       "      <td>f</td>\n",
       "      <td>DISTRICT OF COLUMBIA, WASHINGTON</td>\n",
       "      <td>f</td>\n",
       "      <td>flexible</td>\n",
       "      <td>f</td>\n",
       "      <td>f</td>\n",
       "      <td>1</td>\n",
       "      <td>NaN</td>\n",
       "    </tr>\n",
       "    <tr>\n",
       "      <th>4</th>\n",
       "      <td>8411173</td>\n",
       "      <td>https://www.airbnb.com/rooms/8411173</td>\n",
       "      <td>2.015100e+13</td>\n",
       "      <td>10/3/2015</td>\n",
       "      <td>Downtown Silver Spring</td>\n",
       "      <td>Hi travellers! I live in this peaceful spot, b...</td>\n",
       "      <td>This is a 750 sq ft 1 bedroom 1 bathroom.  Whi...</td>\n",
       "      <td>Hi travellers! I live in this peaceful spot, b...</td>\n",
       "      <td>https://a2.muscache.com/ac/pictures/107730164/...</td>\n",
       "      <td>https://a2.muscache.com/im/pictures/107730164/...</td>\n",
       "      <td>...</td>\n",
       "      <td>NaN</td>\n",
       "      <td>NaN</td>\n",
       "      <td>f</td>\n",
       "      <td>NaN</td>\n",
       "      <td>f</td>\n",
       "      <td>flexible</td>\n",
       "      <td>f</td>\n",
       "      <td>f</td>\n",
       "      <td>1</td>\n",
       "      <td>NaN</td>\n",
       "    </tr>\n",
       "    <tr>\n",
       "      <th>...</th>\n",
       "      <td>...</td>\n",
       "      <td>...</td>\n",
       "      <td>...</td>\n",
       "      <td>...</td>\n",
       "      <td>...</td>\n",
       "      <td>...</td>\n",
       "      <td>...</td>\n",
       "      <td>...</td>\n",
       "      <td>...</td>\n",
       "      <td>...</td>\n",
       "      <td>...</td>\n",
       "      <td>...</td>\n",
       "      <td>...</td>\n",
       "      <td>...</td>\n",
       "      <td>...</td>\n",
       "      <td>...</td>\n",
       "      <td>...</td>\n",
       "      <td>...</td>\n",
       "      <td>...</td>\n",
       "      <td>...</td>\n",
       "      <td>...</td>\n",
       "    </tr>\n",
       "    <tr>\n",
       "      <th>3718</th>\n",
       "      <td>1544877</td>\n",
       "      <td>https://www.airbnb.com/rooms/1544877</td>\n",
       "      <td>2.015100e+13</td>\n",
       "      <td>10/3/2015</td>\n",
       "      <td>Capitol Hill, DC - Great Location!</td>\n",
       "      <td>Fully furnished apartment ( 1 bedroom, 1 bath,...</td>\n",
       "      <td>Historic Victorian house on Capitol Hill. Expe...</td>\n",
       "      <td>Fully furnished apartment ( 1 bedroom, 1 bath,...</td>\n",
       "      <td>https://a2.muscache.com/ac/pictures/39466765/3...</td>\n",
       "      <td>https://a2.muscache.com/im/pictures/39466765/3...</td>\n",
       "      <td>...</td>\n",
       "      <td>10.0</td>\n",
       "      <td>10.0</td>\n",
       "      <td>f</td>\n",
       "      <td>DISTRICT OF COLUMBIA, WASHINGTON</td>\n",
       "      <td>f</td>\n",
       "      <td>strict</td>\n",
       "      <td>f</td>\n",
       "      <td>f</td>\n",
       "      <td>1</td>\n",
       "      <td>0.79</td>\n",
       "    </tr>\n",
       "    <tr>\n",
       "      <th>3719</th>\n",
       "      <td>1806338</td>\n",
       "      <td>https://www.airbnb.com/rooms/1806338</td>\n",
       "      <td>2.015100e+13</td>\n",
       "      <td>10/3/2015</td>\n",
       "      <td>Lovely bright bedroom.</td>\n",
       "      <td>This comfortable room that fits two is situate...</td>\n",
       "      <td>A warm family home.</td>\n",
       "      <td>This comfortable room that fits two is situate...</td>\n",
       "      <td>https://a2.muscache.com/ac/pictures/34765897/4...</td>\n",
       "      <td>https://a2.muscache.com/im/pictures/34765897/4...</td>\n",
       "      <td>...</td>\n",
       "      <td>10.0</td>\n",
       "      <td>10.0</td>\n",
       "      <td>f</td>\n",
       "      <td>DISTRICT OF COLUMBIA, WASHINGTON</td>\n",
       "      <td>f</td>\n",
       "      <td>moderate</td>\n",
       "      <td>f</td>\n",
       "      <td>f</td>\n",
       "      <td>1</td>\n",
       "      <td>1.95</td>\n",
       "    </tr>\n",
       "    <tr>\n",
       "      <th>3720</th>\n",
       "      <td>1817907</td>\n",
       "      <td>https://www.airbnb.com/rooms/1817907</td>\n",
       "      <td>2.015100e+13</td>\n",
       "      <td>10/3/2015</td>\n",
       "      <td>Hill Flats DC - WALK EVERYWHERE!</td>\n",
       "      <td>Hill Flats DC is an owner managed luxury 1880 ...</td>\n",
       "      <td>Welcome to Hill Flats DC! Hill Flats DC is an ...</td>\n",
       "      <td>Hill Flats DC is an owner managed luxury 1880 ...</td>\n",
       "      <td>https://a2.muscache.com/ac/pictures/56054483/2...</td>\n",
       "      <td>https://a2.muscache.com/im/pictures/56054483/2...</td>\n",
       "      <td>...</td>\n",
       "      <td>10.0</td>\n",
       "      <td>9.0</td>\n",
       "      <td>f</td>\n",
       "      <td>DISTRICT OF COLUMBIA, WASHINGTON</td>\n",
       "      <td>f</td>\n",
       "      <td>strict</td>\n",
       "      <td>f</td>\n",
       "      <td>f</td>\n",
       "      <td>2</td>\n",
       "      <td>0.66</td>\n",
       "    </tr>\n",
       "    <tr>\n",
       "      <th>3721</th>\n",
       "      <td>4223238</td>\n",
       "      <td>https://www.airbnb.com/rooms/4223238</td>\n",
       "      <td>2.015100e+13</td>\n",
       "      <td>10/3/2015</td>\n",
       "      <td>One Bedroom Capitol Hill Retreat</td>\n",
       "      <td>This spacious, light-filled, serene one-bedroo...</td>\n",
       "      <td>This renovated english basement is perfectly s...</td>\n",
       "      <td>This spacious, light-filled, serene one-bedroo...</td>\n",
       "      <td>https://a1.muscache.com/ac/pictures/53059210/5...</td>\n",
       "      <td>https://a1.muscache.com/im/pictures/53059210/5...</td>\n",
       "      <td>...</td>\n",
       "      <td>10.0</td>\n",
       "      <td>10.0</td>\n",
       "      <td>f</td>\n",
       "      <td>DISTRICT OF COLUMBIA, WASHINGTON</td>\n",
       "      <td>f</td>\n",
       "      <td>moderate</td>\n",
       "      <td>f</td>\n",
       "      <td>f</td>\n",
       "      <td>1</td>\n",
       "      <td>3.98</td>\n",
       "    </tr>\n",
       "    <tr>\n",
       "      <th>3722</th>\n",
       "      <td>7837187</td>\n",
       "      <td>https://www.airbnb.com/rooms/7837187</td>\n",
       "      <td>2.015100e+13</td>\n",
       "      <td>10/3/2015</td>\n",
       "      <td>Cozy studio blocks from Capitol</td>\n",
       "      <td>4 blocks from the Capitol, 3 blocks to Eastern...</td>\n",
       "      <td>NaN</td>\n",
       "      <td>4 blocks from the Capitol, 3 blocks to Eastern...</td>\n",
       "      <td>https://a2.muscache.com/ac/pictures/100615662/...</td>\n",
       "      <td>https://a2.muscache.com/im/pictures/100615662/...</td>\n",
       "      <td>...</td>\n",
       "      <td>10.0</td>\n",
       "      <td>10.0</td>\n",
       "      <td>f</td>\n",
       "      <td>DISTRICT OF COLUMBIA, WASHINGTON</td>\n",
       "      <td>f</td>\n",
       "      <td>flexible</td>\n",
       "      <td>f</td>\n",
       "      <td>f</td>\n",
       "      <td>1</td>\n",
       "      <td>1.00</td>\n",
       "    </tr>\n",
       "  </tbody>\n",
       "</table>\n",
       "<p>3723 rows × 87 columns</p>\n",
       "</div>"
      ],
      "text/plain": [
       "           id                           listing_url     scrape_id  \\\n",
       "0     7087327  https://www.airbnb.com/rooms/7087327  2.015100e+13   \n",
       "1      975833   https://www.airbnb.com/rooms/975833  2.015100e+13   \n",
       "2     8249488  https://www.airbnb.com/rooms/8249488  2.015100e+13   \n",
       "3     8409022  https://www.airbnb.com/rooms/8409022  2.015100e+13   \n",
       "4     8411173  https://www.airbnb.com/rooms/8411173  2.015100e+13   \n",
       "...       ...                                   ...           ...   \n",
       "3718  1544877  https://www.airbnb.com/rooms/1544877  2.015100e+13   \n",
       "3719  1806338  https://www.airbnb.com/rooms/1806338  2.015100e+13   \n",
       "3720  1817907  https://www.airbnb.com/rooms/1817907  2.015100e+13   \n",
       "3721  4223238  https://www.airbnb.com/rooms/4223238  2.015100e+13   \n",
       "3722  7837187  https://www.airbnb.com/rooms/7837187  2.015100e+13   \n",
       "\n",
       "     last_scraped                                name  \\\n",
       "0       10/3/2015  Historic DC Condo-Walk to Capitol!   \n",
       "1       10/3/2015     Spacious Capitol Hill Townhouse   \n",
       "2       10/3/2015    Spacious/private room for single   \n",
       "3       10/3/2015    A wonderful bedroom with library   \n",
       "4       10/3/2015              Downtown Silver Spring   \n",
       "...           ...                                 ...   \n",
       "3718    10/3/2015  Capitol Hill, DC - Great Location!   \n",
       "3719    10/3/2015              Lovely bright bedroom.   \n",
       "3720    10/3/2015    Hill Flats DC - WALK EVERYWHERE!   \n",
       "3721    10/3/2015    One Bedroom Capitol Hill Retreat   \n",
       "3722    10/3/2015     Cozy studio blocks from Capitol   \n",
       "\n",
       "                                                summary  \\\n",
       "0     Professional pictures coming soon! Welcome to ...   \n",
       "1                                                   NaN   \n",
       "2     This is an ideal room for a single traveler th...   \n",
       "3     Prime location right on the Potomac River in W...   \n",
       "4     Hi travellers! I live in this peaceful spot, b...   \n",
       "...                                                 ...   \n",
       "3718  Fully furnished apartment ( 1 bedroom, 1 bath,...   \n",
       "3719  This comfortable room that fits two is situate...   \n",
       "3720  Hill Flats DC is an owner managed luxury 1880 ...   \n",
       "3721  This spacious, light-filled, serene one-bedroo...   \n",
       "3722  4 blocks from the Capitol, 3 blocks to Eastern...   \n",
       "\n",
       "                                                  space  \\\n",
       "0                                                   NaN   \n",
       "1     Beautifully renovated Capitol Hill townhouse. ...   \n",
       "2                                                   NaN   \n",
       "3                                                   NaN   \n",
       "4     This is a 750 sq ft 1 bedroom 1 bathroom.  Whi...   \n",
       "...                                                 ...   \n",
       "3718  Historic Victorian house on Capitol Hill. Expe...   \n",
       "3719                             A warm family home.      \n",
       "3720  Welcome to Hill Flats DC! Hill Flats DC is an ...   \n",
       "3721  This renovated english basement is perfectly s...   \n",
       "3722                                                NaN   \n",
       "\n",
       "                                            description  \\\n",
       "0     Professional pictures coming soon! Welcome to ...   \n",
       "1     Beautifully renovated Capitol Hill townhouse. ...   \n",
       "2     This is an ideal room for a single traveler th...   \n",
       "3     Prime location right on the Potomac River in W...   \n",
       "4     Hi travellers! I live in this peaceful spot, b...   \n",
       "...                                                 ...   \n",
       "3718  Fully furnished apartment ( 1 bedroom, 1 bath,...   \n",
       "3719  This comfortable room that fits two is situate...   \n",
       "3720  Hill Flats DC is an owner managed luxury 1880 ...   \n",
       "3721  This spacious, light-filled, serene one-bedroo...   \n",
       "3722  4 blocks from the Capitol, 3 blocks to Eastern...   \n",
       "\n",
       "                                          thumbnail_url  \\\n",
       "0     https://a2.muscache.com/ac/pictures/105507202/...   \n",
       "1     https://a2.muscache.com/ac/pictures/14613245/d...   \n",
       "2     https://a1.muscache.com/ac/pictures/104989386/...   \n",
       "3     https://a2.muscache.com/ac/pictures/106977751/...   \n",
       "4     https://a2.muscache.com/ac/pictures/107730164/...   \n",
       "...                                                 ...   \n",
       "3718  https://a2.muscache.com/ac/pictures/39466765/3...   \n",
       "3719  https://a2.muscache.com/ac/pictures/34765897/4...   \n",
       "3720  https://a2.muscache.com/ac/pictures/56054483/2...   \n",
       "3721  https://a1.muscache.com/ac/pictures/53059210/5...   \n",
       "3722  https://a2.muscache.com/ac/pictures/100615662/...   \n",
       "\n",
       "                                             medium_url  ...  \\\n",
       "0     https://a2.muscache.com/im/pictures/105507202/...  ...   \n",
       "1     https://a2.muscache.com/im/pictures/14613245/d...  ...   \n",
       "2     https://a1.muscache.com/im/pictures/104989386/...  ...   \n",
       "3     https://a2.muscache.com/im/pictures/106977751/...  ...   \n",
       "4     https://a2.muscache.com/im/pictures/107730164/...  ...   \n",
       "...                                                 ...  ...   \n",
       "3718  https://a2.muscache.com/im/pictures/39466765/3...  ...   \n",
       "3719  https://a2.muscache.com/im/pictures/34765897/4...  ...   \n",
       "3720  https://a2.muscache.com/im/pictures/56054483/2...  ...   \n",
       "3721  https://a1.muscache.com/im/pictures/53059210/5...  ...   \n",
       "3722  https://a2.muscache.com/im/pictures/100615662/...  ...   \n",
       "\n",
       "     review_scores_location review_scores_value  requires_license  \\\n",
       "0                       NaN                 NaN                 f   \n",
       "1                       9.0                 9.0                 f   \n",
       "2                       NaN                 NaN                 f   \n",
       "3                       NaN                 NaN                 f   \n",
       "4                       NaN                 NaN                 f   \n",
       "...                     ...                 ...               ...   \n",
       "3718                   10.0                10.0                 f   \n",
       "3719                   10.0                10.0                 f   \n",
       "3720                   10.0                 9.0                 f   \n",
       "3721                   10.0                10.0                 f   \n",
       "3722                   10.0                10.0                 f   \n",
       "\n",
       "                    jurisdiction_names instant_bookable cancellation_policy  \\\n",
       "0     DISTRICT OF COLUMBIA, WASHINGTON                f            flexible   \n",
       "1     DISTRICT OF COLUMBIA, WASHINGTON                f              strict   \n",
       "2                                  NaN                f            flexible   \n",
       "3     DISTRICT OF COLUMBIA, WASHINGTON                f            flexible   \n",
       "4                                  NaN                f            flexible   \n",
       "...                                ...              ...                 ...   \n",
       "3718  DISTRICT OF COLUMBIA, WASHINGTON                f              strict   \n",
       "3719  DISTRICT OF COLUMBIA, WASHINGTON                f            moderate   \n",
       "3720  DISTRICT OF COLUMBIA, WASHINGTON                f              strict   \n",
       "3721  DISTRICT OF COLUMBIA, WASHINGTON                f            moderate   \n",
       "3722  DISTRICT OF COLUMBIA, WASHINGTON                f            flexible   \n",
       "\n",
       "     require_guest_profile_picture require_guest_phone_verification  \\\n",
       "0                                f                                f   \n",
       "1                                f                                f   \n",
       "2                                f                                f   \n",
       "3                                f                                f   \n",
       "4                                f                                f   \n",
       "...                            ...                              ...   \n",
       "3718                             f                                f   \n",
       "3719                             f                                f   \n",
       "3720                             f                                f   \n",
       "3721                             f                                f   \n",
       "3722                             f                                f   \n",
       "\n",
       "     calculated_host_listings_count reviews_per_month  \n",
       "0                                18               NaN  \n",
       "1                                 1              2.11  \n",
       "2                                 1              1.00  \n",
       "3                                 1               NaN  \n",
       "4                                 1               NaN  \n",
       "...                             ...               ...  \n",
       "3718                              1              0.79  \n",
       "3719                              1              1.95  \n",
       "3720                              2              0.66  \n",
       "3721                              1              3.98  \n",
       "3722                              1              1.00  \n",
       "\n",
       "[3723 rows x 87 columns]"
      ]
     },
     "execution_count": 4,
     "metadata": {},
     "output_type": "execute_result"
    }
   ],
   "source": [
    "df"
   ]
  },
  {
   "cell_type": "markdown",
   "id": "ea2625ed",
   "metadata": {},
   "source": [
    "# 2.2 Replace Empty Rows with Value 0\n",
    "\n",
    "In this part we replace empty rows with the numerical value 0, based on the related columns we observed we determined that the empty rows were intended to represent value of 0, To enhance our results and facilitate better analysis, we concluded that replacing these empty rows with 0 is the most suitable approach for our process.\"\n",
    "\n",
    "* the columns is as followed: ('review_scores_rating', 'review_scores_accuracy', 'review_scores_cleanliness', 'review_scores_checkin',\n",
    "                      'review_scores_communication', 'review_scores_location', 'review_scores_value', 'reviews_per_month')"
   ]
  },
  {
   "cell_type": "code",
   "execution_count": 5,
   "id": "7f39e8c4",
   "metadata": {},
   "outputs": [],
   "source": [
    "columns_to_replace = ['review_scores_rating', 'review_scores_accuracy', 'review_scores_cleanliness', 'review_scores_checkin',\n",
    "                      'review_scores_communication', 'review_scores_location', 'review_scores_value', 'reviews_per_month']\n",
    "df[columns_to_replace] = df[columns_to_replace].fillna(0)"
   ]
  },
  {
   "cell_type": "markdown",
   "id": "095f0fc7",
   "metadata": {},
   "source": [
    "Take (reviews per month) column as an example the 0 values represent an empty row."
   ]
  },
  {
   "cell_type": "code",
   "execution_count": 6,
   "id": "b800e89c",
   "metadata": {},
   "outputs": [
    {
     "data": {
      "text/plain": [
       "0    0.00\n",
       "1    2.11\n",
       "2    1.00\n",
       "3    0.00\n",
       "4    0.00\n",
       "5    0.00\n",
       "6    0.00\n",
       "7    0.00\n",
       "8    1.00\n",
       "9    0.33\n",
       "Name: reviews_per_month, dtype: float64"
      ]
     },
     "execution_count": 6,
     "metadata": {},
     "output_type": "execute_result"
    }
   ],
   "source": [
    "df['reviews_per_month'].head(10)"
   ]
  },
  {
   "cell_type": "markdown",
   "id": "3c8ed4b0",
   "metadata": {},
   "source": [
    "# 2.3 Cleaning the missing values\n",
    "In this step, we identified missing values. Our approach involved assessing the distribution of each column with missing data by employing a distribution code or histogram. Based on the obtained results, we determined whether to fill the missing values with the mean or median. For instance, if the data distribution shows skewness, we opted for median imputation. on the flip side, if the data distribution was symmetrical, we chose mean imputation.\n",
    "\n",
    "\n",
    "The choice between using the mean or median for filling missing values depends on the distribution of the data. If the distribution is skewed, especially due to the presence of outliers, relying on the mean might be misleading, as it can be influenced by these extreme values. In such cases, the median being less sensitive to outliers will be better to measure the central tendency.\n",
    "\n",
    "on the flip side, when the distribution is more symmetric and not heavily influenced by outliers, the mean becomes a reliable indicator of the central tendency. It provides a representative value that aligns well with the overall distribution of the data, making it a suitable choice.\n",
    "\n",
    "P.s: in the following plots below we dropped the missing data for cleaner histogram and clear results."
   ]
  },
  {
   "cell_type": "markdown",
   "id": "624b3d7a",
   "metadata": {},
   "source": [
    "## 2.3.1 The missing values of bathrooms column"
   ]
  },
  {
   "cell_type": "code",
   "execution_count": 7,
   "id": "5d7b6198",
   "metadata": {},
   "outputs": [
    {
     "data": {
      "image/png": "[encoded data removed]",
      "text/plain": [
       "<Figure size 640x480 with 1 Axes>"
      ]
     },
     "metadata": {},
     "output_type": "display_data"
    }
   ],
   "source": [
    "bathrooms = df['bathrooms'].head(3000)\n",
    "\n",
    "\n",
    "plt.hist(bathrooms, bins=30, edgecolor='black') \n",
    "plt.title('Histogram for Your bathrooms')\n",
    "plt.xlabel('bathrooms')\n",
    "plt.ylabel('Frequency')\n",
    "plt.show()"
   ]
  },
  {
   "cell_type": "markdown",
   "id": "419904c5",
   "metadata": {},
   "source": [
    "Based on the data distrubution the histogram shows a skeweness based on it we filled the missing data with midean, let's take the example bellow, as we see that the midean value is 1, so every missing value will be replaced with 1(midean)"
   ]
  },
  {
   "cell_type": "code",
   "execution_count": 8,
   "id": "c3fccb62",
   "metadata": {},
   "outputs": [
    {
     "name": "stdout",
     "output_type": "stream",
     "text": [
      "Median bathrooms: 1.0\n"
     ]
    }
   ],
   "source": [
    "median_bathrooms = df['bathrooms'].median()\n",
    "print(\"Median bathrooms:\", median_bathrooms)"
   ]
  },
  {
   "cell_type": "code",
   "execution_count": 9,
   "id": "666b8683",
   "metadata": {},
   "outputs": [
    {
     "data": {
      "text/plain": [
       "0    1.0\n",
       "1    3.0\n",
       "2    2.0\n",
       "3    1.0\n",
       "4    1.0\n",
       "5    1.0\n",
       "6    2.0\n",
       "7    1.0\n",
       "8    1.5\n",
       "9    1.0\n",
       "Name: bathrooms, dtype: float64"
      ]
     },
     "execution_count": 9,
     "metadata": {},
     "output_type": "execute_result"
    }
   ],
   "source": [
    "df['bathrooms'] = df['bathrooms'].fillna(median_bathrooms)\n",
    "df['bathrooms'].head(10)"
   ]
  },
  {
   "cell_type": "markdown",
   "id": "88939c94",
   "metadata": {},
   "source": [
    "## 2.3.2 The missing values of weekly prices"
   ]
  },
  {
   "cell_type": "markdown",
   "id": "4a711773",
   "metadata": {},
   "source": [
    "in this following column the same process will be happening as the previous one"
   ]
  },
  {
   "cell_type": "code",
   "execution_count": 10,
   "id": "572c1264",
   "metadata": {},
   "outputs": [
    {
     "data": {
      "text/plain": [
       "0    1125.0\n",
       "1       NaN\n",
       "2     300.0\n",
       "3       NaN\n",
       "4     400.0\n",
       "5       NaN\n",
       "6     550.0\n",
       "7       NaN\n",
       "8     250.0\n",
       "9     415.0\n",
       "Name: weekly_price, dtype: float64"
      ]
     },
     "execution_count": 10,
     "metadata": {},
     "output_type": "execute_result"
    }
   ],
   "source": [
    "df['weekly_price'].head(10)"
   ]
  },
  {
   "cell_type": "code",
   "execution_count": 8,
   "id": "f328e5f6",
   "metadata": {},
   "outputs": [
    {
     "data": {
      "image/png": "[encoded data removed]",
      "text/plain": [
       "<Figure size 640x480 with 1 Axes>"
      ]
     },
     "metadata": {},
     "output_type": "display_data"
    }
   ],
   "source": [
    "\n",
    "weekly_price = df['weekly_price'].dropna()  # Drop missing values for a cleaner histogram\n",
    "\n",
    "# Plot histogram\n",
    "plt.hist(weekly_price, bins=30, edgecolor='black')\n",
    "plt.title('Histogram for weekly_price')\n",
    "plt.xlabel('weekly_price')\n",
    "plt.ylabel('Frequency')\n",
    "plt.show()"
   ]
  },
  {
   "cell_type": "code",
   "execution_count": 14,
   "id": "9ecd4a84",
   "metadata": {},
   "outputs": [
    {
     "name": "stdout",
     "output_type": "stream",
     "text": [
      "Median weekly_price: 700.0\n"
     ]
    }
   ],
   "source": [
    "median_weekly_price = df['weekly_price'].median()\n",
    "print(\"Median weekly_price:\", median_weekly_price)"
   ]
  },
  {
   "cell_type": "code",
   "execution_count": 15,
   "id": "8be14f30",
   "metadata": {},
   "outputs": [
    {
     "data": {
      "text/plain": [
       "0    1125.0\n",
       "1     700.0\n",
       "2     300.0\n",
       "3     700.0\n",
       "4     400.0\n",
       "5     700.0\n",
       "6     550.0\n",
       "7     700.0\n",
       "8     250.0\n",
       "9     415.0\n",
       "Name: weekly_price, dtype: float64"
      ]
     },
     "execution_count": 15,
     "metadata": {},
     "output_type": "execute_result"
    }
   ],
   "source": [
    "df['weekly_price'] = df['weekly_price'].fillna(median_weekly_price)\n",
    "df['weekly_price'].head(10)"
   ]
  },
  {
   "cell_type": "markdown",
   "id": "3ab9aeac",
   "metadata": {},
   "source": [
    "Based on the data distrubution the histogram shows a skeweness or outliers. Based on it we filled the missing data with midean, let's take the example bellow, as we see that the midean value is 700, so every missing value will be replaced with 700(midean)"
   ]
  },
  {
   "cell_type": "markdown",
   "id": "910c2180",
   "metadata": {},
   "source": [
    "## 2.3.3 The missing values of weekly prices"
   ]
  },
  {
   "cell_type": "code",
   "execution_count": 9,
   "id": "8b655129",
   "metadata": {},
   "outputs": [
    {
     "data": {
      "image/png": "[encoded data removed]",
      "text/plain": [
       "<Figure size 640x480 with 1 Axes>"
      ]
     },
     "metadata": {},
     "output_type": "display_data"
    }
   ],
   "source": [
    "monthly_price = df['monthly_price'].dropna() \n",
    "\n",
    "# Plot histogram\n",
    "plt.hist(monthly_price, bins=30, edgecolor='black')\n",
    "plt.title('Histogram for monthly_price')\n",
    "plt.xlabel('monthly_price')\n",
    "plt.ylabel('Frequency')\n",
    "plt.show()"
   ]
  },
  {
   "cell_type": "code",
   "execution_count": 17,
   "id": "eab14d1d",
   "metadata": {},
   "outputs": [
    {
     "name": "stdout",
     "output_type": "stream",
     "text": [
      "Median monthly_price: 2499.0\n"
     ]
    }
   ],
   "source": [
    "#It has outliers, so we can fill the values with median\n",
    "\n",
    "median_monthly_price = df['monthly_price'].median()\n",
    "print(\"Median monthly_price:\", median_monthly_price)"
   ]
  },
  {
   "cell_type": "code",
   "execution_count": 18,
   "id": "a6b70fde",
   "metadata": {},
   "outputs": [
    {
     "data": {
      "text/plain": [
       "0    5225.0\n",
       "1    2499.0\n",
       "2     700.0\n",
       "3    2650.0\n",
       "4    1500.0\n",
       "5    2499.0\n",
       "6    2499.0\n",
       "7    2499.0\n",
       "8     800.0\n",
       "9    1500.0\n",
       "Name: monthly_price, dtype: float64"
      ]
     },
     "execution_count": 18,
     "metadata": {},
     "output_type": "execute_result"
    }
   ],
   "source": [
    "df['monthly_price'] = df['monthly_price'].fillna(median_monthly_price)\n",
    "df['monthly_price'].head(10)"
   ]
  },
  {
   "cell_type": "markdown",
   "id": "6a71be9f",
   "metadata": {},
   "source": [
    "Based on the data distrubution the histogram shows a skeweness or outliers. Based on it we filled the missing data with midean, let's take the example bellow, as we see that the midean value is 2499, so every missing value will be replaced with 2499(midean)"
   ]
  },
  {
   "cell_type": "markdown",
   "id": "292c18e7",
   "metadata": {},
   "source": [
    "## 2.3.4 The missing values of security deposit"
   ]
  },
  {
   "cell_type": "code",
   "execution_count": 10,
   "id": "ee253e49",
   "metadata": {},
   "outputs": [
    {
     "data": {
      "image/png": "[encoded data removed]",
      "text/plain": [
       "<Figure size 640x480 with 1 Axes>"
      ]
     },
     "metadata": {},
     "output_type": "display_data"
    }
   ],
   "source": [
    "security_deposit = df['security_deposit'].dropna() \n",
    "\n",
    "# Plot histogram\n",
    "plt.hist(security_deposit, bins=30, edgecolor='black')\n",
    "plt.title('Histogram for security_deposit')\n",
    "plt.xlabel('security_deposit')\n",
    "plt.ylabel('Frequency')\n",
    "plt.show()"
   ]
  },
  {
   "cell_type": "code",
   "execution_count": 20,
   "id": "61830e15",
   "metadata": {},
   "outputs": [
    {
     "name": "stdout",
     "output_type": "stream",
     "text": [
      "Median security_deposit: 200.0\n"
     ]
    }
   ],
   "source": [
    "#It has outliers, so we can fill the values with median\n",
    "\n",
    "median_security_deposit = df['security_deposit'].median()\n",
    "print(\"Median security_deposit:\", median_security_deposit)"
   ]
  },
  {
   "cell_type": "code",
   "execution_count": 21,
   "id": "9587a797",
   "metadata": {},
   "outputs": [
    {
     "data": {
      "text/plain": [
       "0    100.0\n",
       "1    200.0\n",
       "2    200.0\n",
       "3    200.0\n",
       "4    450.0\n",
       "5    200.0\n",
       "6    150.0\n",
       "7    200.0\n",
       "8    200.0\n",
       "9    200.0\n",
       "Name: security_deposit, dtype: float64"
      ]
     },
     "execution_count": 21,
     "metadata": {},
     "output_type": "execute_result"
    }
   ],
   "source": [
    "df['security_deposit'] = df['security_deposit'].fillna(median_security_deposit)\n",
    "df['security_deposit'].head(10)"
   ]
  },
  {
   "cell_type": "markdown",
   "id": "366570e7",
   "metadata": {},
   "source": [
    "Based on the data distrubution the histogram shows a skeweness or outliers. Based on it we filled the missing data with midean, let's take the example bellow, as we see that the midean value is 200, so every missing value will be replaced with 200(midean)"
   ]
  },
  {
   "cell_type": "markdown",
   "id": "b92e81c8",
   "metadata": {},
   "source": [
    "## 2.3.5 The missing values of cleaning fee"
   ]
  },
  {
   "cell_type": "code",
   "execution_count": 11,
   "id": "2dfcc21c",
   "metadata": {},
   "outputs": [
    {
     "data": {
      "image/png": "[encoded data removed]",
      "text/plain": [
       "<Figure size 640x480 with 1 Axes>"
      ]
     },
     "metadata": {},
     "output_type": "display_data"
    }
   ],
   "source": [
    "cleaning_fee = df['cleaning_fee'].dropna()  \n",
    "\n",
    "# Plot histogram\n",
    "plt.hist(cleaning_fee, bins=30, edgecolor='black')\n",
    "plt.title('Histogram for cleaning_fee')\n",
    "plt.xlabel('cleaning_fee')\n",
    "plt.ylabel('Frequency')\n",
    "plt.show()"
   ]
  },
  {
   "cell_type": "code",
   "execution_count": 15,
   "id": "1950d836",
   "metadata": {},
   "outputs": [
    {
     "name": "stdout",
     "output_type": "stream",
     "text": [
      "Median cleaning_fee: 50.0\n"
     ]
    }
   ],
   "source": [
    "median_cleaning_fee = df['cleaning_fee'].median()\n",
    "print(\"Median cleaning_fee:\", median_cleaning_fee)"
   ]
  },
  {
   "cell_type": "code",
   "execution_count": 16,
   "id": "f6c0be03",
   "metadata": {},
   "outputs": [
    {
     "data": {
      "text/plain": [
       "0    115.0\n",
       "1    100.0\n",
       "2     50.0\n",
       "3     50.0\n",
       "4     15.0\n",
       "5     50.0\n",
       "6     50.0\n",
       "7     50.0\n",
       "8     50.0\n",
       "9     10.0\n",
       "Name: cleaning_fee, dtype: float64"
      ]
     },
     "execution_count": 16,
     "metadata": {},
     "output_type": "execute_result"
    }
   ],
   "source": [
    "df['cleaning_fee'] = df['cleaning_fee'].fillna(median_cleaning_fee)\n",
    "df['cleaning_fee'].head(10)"
   ]
  },
  {
   "cell_type": "markdown",
   "id": "f5293dc5",
   "metadata": {},
   "source": [
    "Based on the data distrubution the histogram shows a skeweness or outliers. Based on it we filled the missing data with midean, let's take the example bellow, as we see that the midean value is 50, so every missing value will be replaced with 50(midean)"
   ]
  },
  {
   "cell_type": "markdown",
   "id": "0ff695aa",
   "metadata": {},
   "source": [
    "# 3- Step three in our project\n",
    "Now that we've completed the dataset cleaning phase and have a capture an idea of how certain elements in our dataset are distributed, the next step in our project involves running some simulations. These simulations serve as a preparatory step, providing us with a simulated environment to better understand the expected outcomes. Once we've navigated through these simulations and gained insights, we'll seamlessly transition to analyzing our actual dataset.\n",
    "\n",
    "The purpose behind this approach is to leverage the simulations. By first exploring hypothetical scenarios, we can establish a baseline for what we might expect in our real world data. This sets the stage for a more insightful analysis when we eventually compare the outcomes from our actual dataset with those derived from the simulations. "
   ]
  },
  {
   "cell_type": "markdown",
   "id": "b6dfdfe6",
   "metadata": {},
   "source": [
    "## 3.1 Section A"
   ]
  },
  {
   "cell_type": "markdown",
   "id": "f7200305",
   "metadata": {},
   "source": [
    "### Objective Tasks:\n",
    "Understand the fundamentals of both the binomial and normal distributions. \n"
   ]
  },
  {
   "cell_type": "markdown",
   "id": "801a5413",
   "metadata": {},
   "source": [
    "Q.1 Describe the binomial distribution, including its parameters and its probability mass function (PMF) ?"
   ]
  },
  {
   "cell_type": "markdown",
   "id": "f0b7dd4b",
   "metadata": {},
   "source": [
    "A.1 Binomial Distribution: The binomial distribution models the number of successes in a fixed number (n) of independent Bernoulli trials, where each trial has two possible outcomes—success (usually denoted as 1) or failure (denoted as 0).  The key parameters are the probability of success on a single trial (p) and the total number of trials (n).\n",
    "\n",
    "Parameters:\n",
    "\n",
    "n: Number of trials.\n",
    "\n",
    "p: Probability of success on a single trial.\n",
    "\n",
    "Probability Mass Function (PMF):\n",
    "\n",
    "The probability mass function of the binomial distribution gives the probability of getting exactly k successes in n trials:\n"
   ]
  },
  {
   "cell_type": "code",
   "execution_count": 2,
   "id": "2e44545c",
   "metadata": {},
   "outputs": [
    {
     "data": {
      "image/jpeg": "[encoded data removed]",
      "text/plain": [
       "<IPython.core.display.Image object>"
      ]
     },
     "metadata": {},
     "output_type": "display_data"
    }
   ],
   "source": [
    "from IPython.display import display, Image\n",
    "\n",
    "# Replace 'C:\\\\Users\\\\dell\\\\Desktop\\\\DAB 501\\\\project_photo.jpg' with the correct path to your image file\n",
    "display(Image(filename='C:\\\\Users\\\\dell\\\\Desktop\\\\DAB 501\\\\project_photo.jpg'))\n"
   ]
  },
  {
   "cell_type": "markdown",
   "id": "25b300dd",
   "metadata": {},
   "source": [
    "Example:\n",
    " \n",
    "Suppose you are rolling a fair six-sided die (p = 1/6) five times (n=5). \n",
    "What is the probability of getting exactly 2 fours?\n",
    "\n",
    "Using the binomial PMF:\n",
    "\n",
    "P(X=2)=(□(5/2))  ×(〖□(1/6))〗^2  × (〖5/6)〗^3\n",
    "\n",
    "P(X = 2) = 10 ×  1/36  × 125/216\n",
    "\n",
    "P(X = 2) ≈ 0.126\n",
    "        \n",
    "        So, there is approximately a 12.6% probability of getting exactly 2 fours.\n"
   ]
  },
  {
   "cell_type": "markdown",
   "id": "3df46a1d",
   "metadata": {},
   "source": [
    "Q.2 Describe the normal distribution, including its parameters and its probability density function (PDF) ?"
   ]
  },
  {
   "cell_type": "markdown",
   "id": "4770747f",
   "metadata": {},
   "source": [
    "A.2 Normal Distribution:  A symmetric bell-shaped curve defines the normal distribution, also known as the Gaussian distribution, which is a continuous probability distribution. The two parameters that fully characterize it are the mean (μ) and the standard deviation (σ).\n",
    "\n",
    "Parameters: \n",
    "\n",
    "μ: Mean, representing the center of the distribution.\n",
    "\n",
    "σ: Standard deviation, determining the spread or width of the distribution.\n",
    "\n",
    "Probability Density Function (PDF): \n",
    "\n",
    "The probability density function of the normal distribution is given by:\n",
    "\n",
    "f(x)= 1/(σ√2π) × e^(-〖(x-μ)〗^2/〖2σ〗^2 )\n",
    "\n",
    "where:\n",
    "\n",
    "x: A random variable.\n",
    "\n",
    "e: The base of the natural logarithm.\n",
    "\n",
    "Example: Consider a normal distribution with μ=50 and σ=10. What is the probability that a randomly selected value is less than 60?\n",
    "\n",
    "Using the normal distribution:\n",
    "\n",
    "P (X < 60) = P (Z <  (60-50)/10) = P(Z<1)\n",
    "\n",
    "Using a standard normal distribution table or calculator, P(Z<1) is approximately 0.8413.\n",
    "So, the probability is approximately 84.13%.\n"
   ]
  },
  {
   "cell_type": "markdown",
   "id": "178413b0",
   "metadata": {},
   "source": [
    "Q.3 Explain the conditions under which the binomial distribution can be approximated by the normal distribution ?"
   ]
  },
  {
   "cell_type": "markdown",
   "id": "8a76369b",
   "metadata": {},
   "source": [
    "A.3 : - Approximation of Binomial by Normal Distribution:\n",
    "\n",
    "Conditions:\n",
    "\n",
    "* Large n: As the number of trials (n) increases, the binomial distribution approaches a normal distribution.\n",
    "* np and n(1−p) are both sufficiently large: The normal approximation is more accurate when both np and n(1−p) are greater than 5.\n",
    "\n",
    "Example:Suppose you have a binomial distribution with n=100 trials and p=0.3. Check if it can be approximated by a normal distribution.\n",
    "\n",
    "np = 100 × 0.3 = 30\n",
    "\n",
    "n(1 - p) = 100 × 0.7 = 70\n",
    "\n",
    "Both np and n(1−p) are greater than 5, so the normal approximation is valid.\n",
    "\n",
    "This allows us to use the normal distribution to estimate probabilities associated with this binomial distribution, simplifying calculations.\n"
   ]
  },
  {
   "cell_type": "markdown",
   "id": "3121401d",
   "metadata": {},
   "source": [
    "## 3.2 Section A"
   ]
  },
  {
   "cell_type": "markdown",
   "id": "f5fb246a",
   "metadata": {},
   "source": [
    "B. Data Generation (20 points)\n",
    " Objective: Generate datasets that follow the binomial distribution.\n",
    " Tasks:\n",
    "1. Generate and plot 1,000 samples from a binomial distribution with parameters (n = 10 ) and\n",
    "( p = 0.5 ).\n",
    "2. Generate and plot 1,000 samples from a binomial distribution with parameters ( n = 100 )\n",
    "and ( p = 0.5 ).\n",
    "3. Generate and plot 1,000 samples from a binomial distribution with parameters ( n = 100 )\n",
    "and ( p = 0.1 )."
   ]
  },
  {
   "cell_type": "markdown",
   "id": "9f045de6",
   "metadata": {},
   "source": [
    "### 3.2.1 Generate and plot 1,000 samples from a binomial distribution with parameters (n = 10 ) and ( p = 0.5 )."
   ]
  },
  {
   "cell_type": "code",
   "execution_count": null,
   "id": "72b3aac8",
   "metadata": {},
   "outputs": [],
   "source": []
  }
 ],
 "metadata": {
  "kernelspec": {
   "display_name": "Python 3 (ipykernel)",
   "language": "python",
   "name": "python3"
  },
  "language_info": {
   "codemirror_mode": {
    "name": "ipython",
    "version": 3
   },
   "file_extension": ".py",
   "mimetype": "text/x-python",
   "name": "python",
   "nbconvert_exporter": "python",
   "pygments_lexer": "ipython3",
   "version": "3.11.4"
  }
 },
 "nbformat": 4,
 "nbformat_minor": 5
}
